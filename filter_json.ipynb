{
 "cells": [
  {
   "cell_type": "code",
   "execution_count": null,
   "metadata": {},
   "outputs": [],
   "source": [
    "import json\n",
    "import cv2\n",
    "import numpy as np\n",
    "import matplotlib.pyplot as plt\n",
    "import ultralytics"
   ]
  },
  {
   "cell_type": "code",
   "execution_count": null,
   "metadata": {},
   "outputs": [],
   "source": [
    "with open(\"./IASA_Champ_Final/app_data/Almighty/1707228245/com.onmyway133.Almighty-setapp.json\") as f:\n",
    "    data = json.load(f)\n",
    "\n",
    "image = cv2.imread(\"./IASA_Champ_Final/app_data/Almighty/1707228245/Almighty-1707228246.51.png\")\n",
    "image = cv2.cvtColor(image, cv2.COLOR_BGR2RGB)"
   ]
  },
  {
   "cell_type": "code",
   "execution_count": null,
   "metadata": {},
   "outputs": [],
   "source": [
    "model = ultralytics.YOLO('best.pt')\n",
    "cat_names = model.names"
   ]
  },
  {
   "cell_type": "code",
   "execution_count": null,
   "metadata": {},
   "outputs": [],
   "source": [
    "def draw_elements(node, image):\n",
    "    \"\"\"\n",
    "    :param node: JSON of GUI\n",
    "    :param image_screenshot: cv2 image of GUI\n",
    "    :return: cv2 image\n",
    "    \"\"\"\n",
    "    if node['visible_bbox'] is not None:\n",
    "        x, y, w, h = node['visible_bbox']\n",
    "        yolo_res = model(cv2.resize(image[y:y+h,x:x+w,::-1], (244, 244)), verbose=False)\n",
    "        top5 = [cat_names[i] for i in yolo_res[0].probs.top5]\n",
    "        if np.sum(image[y:y+h, x:x+w] - image[y,x]) != 0 and node['role'] in top5:\n",
    "            image = cv2.rectangle(image, (x, y), (x + w, y + h), (0, 255, 0), 2)\n",
    "\n",
    "    if node['children']:\n",
    "        for child in node['children']:\n",
    "            image = draw_elements(child, image)\n",
    "    \n",
    "    return image"
   ]
  },
  {
   "cell_type": "code",
   "execution_count": null,
   "metadata": {},
   "outputs": [],
   "source": [
    "new_image = image.copy()\n",
    "new_image = draw_elements(data, new_image)\n",
    "\n",
    "plt.imshow(new_image)\n",
    "plt.axis('off')\n",
    "plt.show()"
   ]
  }
 ],
 "metadata": {
  "kernelspec": {
   "display_name": "iasa",
   "language": "python",
   "name": "python3"
  },
  "language_info": {
   "codemirror_mode": {
    "name": "ipython",
    "version": 3
   },
   "file_extension": ".py",
   "mimetype": "text/x-python",
   "name": "python",
   "nbconvert_exporter": "python",
   "pygments_lexer": "ipython3",
   "version": "3.11.7"
  }
 },
 "nbformat": 4,
 "nbformat_minor": 2
}
