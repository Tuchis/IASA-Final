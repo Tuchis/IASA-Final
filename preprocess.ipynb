{
 "cells": [
  {
   "cell_type": "code",
   "execution_count": 1,
   "metadata": {},
   "outputs": [],
   "source": [
    "import os\n",
    "import pandas as pd\n",
    "import numpy as np\n",
    "import json\n",
    "from PIL import Image, ImageDraw\n",
    "import cv2\n",
    "import numpy as np\n",
    "import ultralytics"
   ]
  },
  {
   "cell_type": "markdown",
   "metadata": {},
   "source": [
    "## Load Split data"
   ]
  },
  {
   "cell_type": "code",
   "execution_count": 57,
   "metadata": {},
   "outputs": [],
   "source": [
    "def split_train_test(dir_path, csv_file):\n",
    "    with open(csv_file, 'r') as f:\n",
    "        for line in f:\n",
    "            if line.startswith('screen'):\n",
    "                continue\n",
    "            subpath, dtype = line.strip().split(',')\n",
    "            try:\n",
    "                old_path = os.path.join(dir_path, subpath)\n",
    "                new_path = os.path.join(dir_path, dtype, subpath)\n",
    "                os.makedirs(os.path.dirname(new_path), exist_ok=True)\n",
    "                for file in os.listdir(old_path):\n",
    "                    os.rename(os.path.join(old_path, file), os.path.join(new_path, file))\n",
    "                os.rmdir(old_path)\n",
    "            except Exception as e:\n",
    "                # print(e)\n",
    "                pass\n",
    "                "
   ]
  },
  {
   "cell_type": "code",
   "execution_count": 58,
   "metadata": {},
   "outputs": [],
   "source": [
    "split_train_test('./IASA_Champ_Final/app_data', './IASA_Champ_Final/train_test_split.csv')"
   ]
  },
  {
   "cell_type": "code",
   "execution_count": 64,
   "metadata": {},
   "outputs": [],
   "source": [
    "def count_files(dir_path, extentions=['.json', '.png']):\n",
    "    counts = {ext: 0 for ext in extentions}\n",
    "    for _, _, files in os.walk(dir_path):\n",
    "        for file in files:\n",
    "            for ext in extentions:\n",
    "                if file.endswith(ext):\n",
    "                    counts[ext] += 1\n",
    "    return counts"
   ]
  },
  {
   "cell_type": "code",
   "execution_count": 65,
   "metadata": {},
   "outputs": [
    {
     "data": {
      "text/plain": [
       "({'.json': 192, '.png': 282}, {'.json': 52, '.png': 76})"
      ]
     },
     "execution_count": 65,
     "metadata": {},
     "output_type": "execute_result"
    }
   ],
   "source": [
    "count_files('./IASA_Champ_Final/app_data_splitted/train'), count_files('./IASA_Champ_Final/app_data_splitted/test')"
   ]
  },
  {
   "cell_type": "code",
   "execution_count": 116,
   "metadata": {},
   "outputs": [
    {
     "name": "stderr",
     "output_type": "stream",
     "text": [
      "cp: target 'Out-1707213723.15_box.png' is not a directory\n",
      "cp: target 'Out-1707213671.76_box.png' is not a directory\n",
      "cp: target '5-1707227556.76_box.png' is not a directory\n",
      "cp: target '5-1707227600.45_box.png' is not a directory\n",
      "cp: target '5-1707227575.92_box.png' is not a directory\n",
      "cp: target '5-1707227584.28_box.png' is not a directory\n",
      "cp: target '5-1707227424.73_box.png' is not a directory\n",
      "cp: target '5-1707227544.27_box.png' is not a directory\n",
      "cp: target '5-1707227479.89_box.png' is not a directory\n",
      "cp: target '5-1707227592.58_box.png' is not a directory\n",
      "cp: target 'Store-1707173656.53_box.png' is not a directory\n",
      "cp: target 'Store-1707174074.67_box.png' is not a directory\n",
      "cp: target 'Store-1707174099.08_box.png' is not a directory\n",
      "cp: target 'Store-1707174123.38_box.png' is not a directory\n",
      "cp: target 'Store-1707174130.99_box.png' is not a directory\n",
      "cp: target 'Mail-1707211184.38_box.png' is not a directory\n",
      "cp: target 'Mail-1707211213.72_box.png' is not a directory\n",
      "cp: target 'Mail-1707211165.96_box.png' is not a directory\n",
      "cp: target 'Express-1707242960.46_box.png' is not a directory\n",
      "cp: target 'Express-1707242942.56_box.png' is not a directory\n",
      "cp: target 'Express-1707242976.78_box.png' is not a directory\n",
      "cp: target 'Express-1707242985.41_box.png' is not a directory\n",
      "cp: target 'Express-1707242950.56_box.png' is not a directory\n",
      "cp: target 'Editor-1707229072.88_box.png' is not a directory\n",
      "cp: target 'Editor-1707229117.10_box.png' is not a directory\n",
      "cp: target 'Editor-1707229061.15_box.png' is not a directory\n",
      "cp: target 'Editor-1707229161.69_box.png' is not a directory\n",
      "cp: target 'Editor-1707229153.45_box.png' is not a directory\n",
      "cp: target 'Editor-1707229106.61_box.png' is not a directory\n",
      "cp: target 'Editor-1707229187.84_box.png' is not a directory\n",
      "cp: target 'Mail-1707176092.83_box.png' is not a directory\n",
      "cp: target 'Mail-1707176047.19_box.png' is not a directory\n",
      "cp: target 'Mail-1707175759.99_box.png' is not a directory\n",
      "cp: target 'Mail-1707176034.81_box.png' is not a directory\n",
      "cp: target 'Chrome-1707230542.65_box.png' is not a directory\n",
      "cp: target 'Chrome-1707230680.11_box.png' is not a directory\n",
      "cp: target 'Chrome-1707230672.39_box.png' is not a directory\n",
      "cp: target 'Chrome-1707230707.09_box.png' is not a directory\n",
      "cp: target 'Chrome-1707230590.03_box.png' is not a directory\n",
      "cp: target 'Chrome-1707230393.17_box.png' is not a directory\n",
      "cp: target 'Chrome-1707230516.98_box.png' is not a directory\n",
      "cp: target 'Chrome-1707230456.48_box.png' is not a directory\n",
      "cp: target 'Chrome-1707230660.17_box.png' is not a directory\n",
      "cp: target 'Chrome-1707230622.27_box.png' is not a directory\n",
      "cp: target 'Chrome-1707230562.50_box.png' is not a directory\n",
      "cp: target 'Explorer-1707239413.81_box.png' is not a directory\n",
      "cp: target 'Explorer-1707239451.95_box.png' is not a directory\n",
      "cp: target 'Explorer-1707239691.43_box.png' is not a directory\n",
      "cp: target 'Mind-1707209808.56_box.png' is not a directory\n",
      "cp: target '5-1707227567.87_box.png' is not a directory\n",
      "cp: target 'Store-1707174111.80_box.png' is not a directory\n",
      "cp: target 'Mail-1707211236.75_box.png' is not a directory\n",
      "cp: target 'Mail-1707211223.27_box.png' is not a directory\n",
      "cp: target 'Express-1707242890.47_box.png' is not a directory\n",
      "cp: target 'Express-1707242900.69_box.png' is not a directory\n",
      "cp: target 'Express-1707242915.24_box.png' is not a directory\n",
      "cp: target 'Chrome-1707230332.39_box.png' is not a directory\n",
      "cp: target './IASA_Champ_Final/app_data_splitted/test_photos_box/-1707238871.87_box.png' is not a directory\n",
      "cp: target './IASA_Champ_Final/app_data_splitted/test_photos_box/-1707239034.13_box.png' is not a directory\n",
      "cp: target 'Explorer-1707239727.03_box.png' is not a directory\n"
     ]
    }
   ],
   "source": [
    "def copy_all_photos(dir_path, target_dir, flag='box'):\n",
    "    os.makedirs(target_dir, exist_ok=True)\n",
    "    for root, dirs, files in os.walk(dir_path):\n",
    "        for file in files:\n",
    "            if file.endswith('.png') and flag in file:\n",
    "                new_path = os.path.join(target_dir, file)\n",
    "                os.system(f'cp {os.path.join(root, file)} {new_path}')\n",
    "\n",
    "copy_all_photos('./IASA_Champ_Final/app_data_splitted/train', './IASA_Champ_Final/app_data_splitted/train_photos_box', 'box')\n",
    "copy_all_photos('./IASA_Champ_Final/app_data_splitted/test', './IASA_Champ_Final/app_data_splitted/test_photos_box', 'box')"
   ]
  },
  {
   "cell_type": "code",
   "execution_count": 91,
   "metadata": {},
   "outputs": [
    {
     "data": {
      "text/html": [
       "<div>\n",
       "<style scoped>\n",
       "    .dataframe tbody tr th:only-of-type {\n",
       "        vertical-align: middle;\n",
       "    }\n",
       "\n",
       "    .dataframe tbody tr th {\n",
       "        vertical-align: top;\n",
       "    }\n",
       "\n",
       "    .dataframe thead th {\n",
       "        text-align: right;\n",
       "    }\n",
       "</style>\n",
       "<table border=\"1\" class=\"dataframe\">\n",
       "  <thead>\n",
       "    <tr style=\"text-align: right;\">\n",
       "      <th></th>\n",
       "      <th>class</th>\n",
       "      <th>count</th>\n",
       "      <th>color</th>\n",
       "    </tr>\n",
       "  </thead>\n",
       "  <tbody>\n",
       "    <tr>\n",
       "      <th>0</th>\n",
       "      <td>AXStaticText</td>\n",
       "      <td>9425</td>\n",
       "      <td>red</td>\n",
       "    </tr>\n",
       "    <tr>\n",
       "      <th>1</th>\n",
       "      <td>AXGroup</td>\n",
       "      <td>7390</td>\n",
       "      <td>green</td>\n",
       "    </tr>\n",
       "    <tr>\n",
       "      <th>2</th>\n",
       "      <td>AXButton</td>\n",
       "      <td>5204</td>\n",
       "      <td>blue</td>\n",
       "    </tr>\n",
       "    <tr>\n",
       "      <th>3</th>\n",
       "      <td>AXImage</td>\n",
       "      <td>4471</td>\n",
       "      <td>yellow</td>\n",
       "    </tr>\n",
       "    <tr>\n",
       "      <th>4</th>\n",
       "      <td>AXTextField</td>\n",
       "      <td>4220</td>\n",
       "      <td>orange</td>\n",
       "    </tr>\n",
       "    <tr>\n",
       "      <th>5</th>\n",
       "      <td>AXRow</td>\n",
       "      <td>3444</td>\n",
       "      <td>purple</td>\n",
       "    </tr>\n",
       "    <tr>\n",
       "      <th>6</th>\n",
       "      <td>AXCheckBox</td>\n",
       "      <td>2495</td>\n",
       "      <td>pink</td>\n",
       "    </tr>\n",
       "    <tr>\n",
       "      <th>7</th>\n",
       "      <td>AXCell</td>\n",
       "      <td>1579</td>\n",
       "      <td>cany</td>\n",
       "    </tr>\n",
       "    <tr>\n",
       "      <th>8</th>\n",
       "      <td>AXLink</td>\n",
       "      <td>961</td>\n",
       "      <td>darkblue</td>\n",
       "    </tr>\n",
       "    <tr>\n",
       "      <th>9</th>\n",
       "      <td>AXHeading</td>\n",
       "      <td>394</td>\n",
       "      <td>grey</td>\n",
       "    </tr>\n",
       "  </tbody>\n",
       "</table>\n",
       "</div>"
      ],
      "text/plain": [
       "          class  count     color\n",
       "0  AXStaticText   9425       red\n",
       "1       AXGroup   7390     green\n",
       "2      AXButton   5204      blue\n",
       "3       AXImage   4471    yellow\n",
       "4   AXTextField   4220    orange\n",
       "5         AXRow   3444    purple\n",
       "6    AXCheckBox   2495      pink\n",
       "7        AXCell   1579      cany\n",
       "8        AXLink    961  darkblue\n",
       "9     AXHeading    394      grey"
      ]
     },
     "execution_count": 91,
     "metadata": {},
     "output_type": "execute_result"
    }
   ],
   "source": [
    "classes = pd.read_csv('./classes.csv')\n",
    "classes.head()\n",
    "COLORS = ['red', 'green', 'blue', 'yellow', 'orange', 'purple', 'pink', 'cany','darkblue', 'grey']\n",
    "class_colors = {c: COLORS[min(i, len(COLORS)-1)] for i, c in enumerate(classes['class'])}\n",
    "classes['color'] = classes.apply(lambda row: COLORS[min(int(row.name), len(COLORS)-1)], axis=1)\n",
    "classes.to_csv('./classes.csv', index=False)\n",
    "classes.head(10)"
   ]
  },
  {
   "cell_type": "markdown",
   "metadata": {},
   "source": [
    "## Anotation of the images"
   ]
  },
  {
   "cell_type": "code",
   "execution_count": 112,
   "metadata": {},
   "outputs": [],
   "source": [
    "CLASSES = pd.read_csv('./classes.csv')\n",
    "\n",
    "def draw_boxes(draw, item):\n",
    "    bbox = item.get('visible_bbox')\n",
    "    if bbox is not None:\n",
    "        x, y, width, height = bbox\n",
    "        box = [x, y, x + width, y + height]\n",
    "        color = CLASSES[CLASSES['class'] == item['role']]['color'].values[0]\n",
    "        draw.rectangle(box, outline=color)   \n",
    "    children = item.get('children', [])\n",
    "    for child in children:\n",
    "        draw_boxes(draw, child)\n",
    "        \n",
    "def annotate_image(image_path, data_path, output_path=None, flag='box'):\n",
    "    with open(data_path, 'r') as f:\n",
    "        data = json.load(f)\n",
    "    image = Image.open(image_path)\n",
    "    draw = ImageDraw.Draw(image)\n",
    "    draw_boxes(draw, data)\n",
    "    if output_path is None:\n",
    "        output_path = image_path.replace('.png', f'_{flag}.png')\n",
    "    image.save(output_path)\n",
    "\n",
    "def annotate_images(dir_path, flag='box'):\n",
    "    for root, dirs, files in os.walk(dir_path):\n",
    "        if any(files.endswith('.json') for files in files):\n",
    "            for file in files:\n",
    "                if file.endswith(\".json\"):\n",
    "                    data_path = os.path.join(root, file)\n",
    "                if file.endswith(\".png\") and flag not in file:\n",
    "                    image_path = os.path.join(root, file)\n",
    "            annotate_image(image_path, data_path, flag=flag)\n"
   ]
  },
  {
   "cell_type": "code",
   "execution_count": 115,
   "metadata": {},
   "outputs": [],
   "source": [
    "annotate_images('./IASA_Champ_Final/app_data_splitted/train')"
   ]
  },
  {
   "cell_type": "code",
   "execution_count": null,
   "metadata": {},
   "outputs": [],
   "source": [
    "def draw_csv_bboxes(file, image):\n",
    "    df = pd.read_csv(file, sep='\\t')\n",
    "    image = Image.open(image)\n",
    "    draw = ImageDraw.Draw(image)\n",
    "    for _, row in df.iterrows():\n",
    "        bbox = eval(row['visible_bbox'])\n",
    "        x, y, width, height = bbox\n",
    "        box = [x, y, x + width, y + height]\n",
    "        draw.rectangle(box, outline='red')\n",
    "    image.save('your_updated_image.png')\n"
   ]
  },
  {
   "cell_type": "code",
   "execution_count": null,
   "metadata": {},
   "outputs": [],
   "source": [
    "def csv_to_json(file, output_file):\n",
    "    df = pd.read_csv(file, sep='\\t')\n",
    "    data = {}\n",
    "    for _, row in df.iterrows():\n",
    "        parent_id = row['pid']\n",
    "        if parent_id not in data:\n",
    "            data[parent_id] = {'children': []}\n",
    "        element = {'role': row['role'], 'visible_bbox': eval(row['visible_bbox']), 'value': row['value'], 'description': row['description']}\n",
    "        data[row['id']] = element\n",
    "        data[parent_id]['children'].append(element)\n",
    "    \n",
    "    with open(output_file, 'w') as f:\n",
    "        json.dump(data[0], f)\n",
    "        \n",
    "# csv_to_json('./test.tsv', './test.json')"
   ]
  },
  {
   "cell_type": "code",
   "execution_count": null,
   "metadata": {},
   "outputs": [],
   "source": [
    "draw_csv_bboxes('./your_updated_csv_file2.tsv', './Almighty-1707228195.40.png')"
   ]
  },
  {
   "cell_type": "code",
   "execution_count": 105,
   "metadata": {},
   "outputs": [],
   "source": [
    "data_dir = './IASA_Champ_Final/app_data'\n",
    "app_name = 'Setapp'\n",
    "screen_id = '1707127584'\n",
    "element_path = os.path.join(data_dir, app_name, screen_id)\n",
    "\n",
    "for file in os.listdir(element_path):\n",
    "    if file.endswith(\".json\"):\n",
    "        data_path = os.path.join(element_path, file)\n",
    "    if file.endswith(\".png\"):\n",
    "        image_path = os.path.join(element_path, file)\n",
    "            \n",
    "annotate_image(element_path)"
   ]
  },
  {
   "cell_type": "markdown",
   "metadata": {},
   "source": [
    "## Preprocess jsons"
   ]
  },
  {
   "cell_type": "code",
   "execution_count": 32,
   "metadata": {},
   "outputs": [],
   "source": [
    "def assign_ids_recursive(data, id_counter=1, parent_id=0):\n",
    "    data['id'] = id_counter\n",
    "    data['pid'] = parent_id\n",
    "    data.pop('bbox')\n",
    "    id_counter += 1\n",
    "    for idx in range(len(data['children'])-1, -1, -1):\n",
    "        child = data['children'][idx]\n",
    "        if child['visible_bbox'] is None or child['role_description'] in ['close button', 'minimize button', 'full screen button']:\n",
    "            del data['children'][idx]\n",
    "        else:\n",
    "            id_counter = assign_ids_recursive(child, id_counter, data['id'])\n",
    "    return id_counter\n",
    "\n",
    "def list_all_elements(data):\n",
    "    elements = [{k: v for k, v in data.items() if k != 'children'}]\n",
    "    for element in data['children']:\n",
    "        elements += list_all_elements(element)\n",
    "    return elements\n",
    "\n",
    "def create_text_description(row):\n",
    "    text = [row['name'] if str(row['name']) != 'None' else '']\n",
    "    if str(row['description'])!='None':\n",
    "        text.append(row['description'])\n",
    "    return '|'.join(text)"
   ]
  },
  {
   "cell_type": "code",
   "execution_count": 33,
   "metadata": {},
   "outputs": [],
   "source": [
    "model = ultralytics.YOLO('best.pt')\n",
    "cat_names = model.names\n",
    "\n",
    "def fix_json(node, image):\n",
    "    \"\"\"\n",
    "    :param node: JSON of GUI\n",
    "    :param image_screenshot: cv2 image of GUI\n",
    "    :return: cv2 image\n",
    "    \"\"\"\n",
    "    if node['visible_bbox'] is not None:\n",
    "        x, y, w, h = node['visible_bbox']\n",
    "        yolo_res = model(cv2.resize(image[y:y+h,x:x+w,::-1], (244, 244)), verbose=False)\n",
    "        top5 = [cat_names[i] for i in yolo_res[0].probs.top5]\n",
    "        if np.sum(image[y:y+h, x:x+w] - image[y,x]) != 0 and node['role'] in top5:\n",
    "            # image = cv2.rectangle(image, (x, y), (x + w, y + h), (0, 255, 0), 2)\n",
    "            node['visible_bbox'] = None\n",
    "\n",
    "    if node['children']:\n",
    "        for child in node['children']:\n",
    "            fix_json(child, image)\n",
    "    \n",
    "    return None\n",
    "\n",
    "def filter_json(data, image_path: str):\n",
    "    image = cv2.imread(image_path)\n",
    "    image = cv2.cvtColor(image, cv2.COLOR_BGR2RGB)\n",
    "    fix_json(data, image)\n",
    "    return data"
   ]
  },
  {
   "cell_type": "code",
   "execution_count": 37,
   "metadata": {},
   "outputs": [],
   "source": [
    "def preprocess_json_to_csv(data_path, output_path, image_path=None):\n",
    "    with open(data_path, 'r') as file:\n",
    "        data = json.load(file)    \n",
    "    assign_ids_recursive(data)\n",
    "    if image_path is not None:\n",
    "        data = filter_json(data, image_path)\n",
    "    df = pd.DataFrame(list_all_elements(data))\n",
    "    df['description'] = df.apply(create_text_description, axis=1)\n",
    "    \n",
    "    df['value'][df['value']=='None'] = ''\n",
    "    df['role'] = df['role'].apply(lambda x: x[2:])    \n",
    "    df['center'] = df['visible_bbox'].apply(lambda x: [x[0]+x[2]/2, x[1]+x[3]/2] if x is not None else None)\n",
    "    \n",
    "    df = df[['id', 'pid', 'role','visible_bbox', 'center', 'value','description']]\n",
    "    df.to_csv(output_path, sep='\\t', index=False)"
   ]
  },
  {
   "cell_type": "code",
   "execution_count": 38,
   "metadata": {},
   "outputs": [],
   "source": [
    "def prepare_all_tsvs(dir_path, inflag='', exflag='annotated'):\n",
    "    for root, dirs, files in os.walk(dir_path):\n",
    "        if any(files.endswith('.json') for files in files):\n",
    "            for file in files:\n",
    "                if file.endswith(\".json\") and inflag in file and exflag not in file:\n",
    "                    data_path = os.path.join(root, file)\n",
    "                if file.endswith(\".png\") and 'box' not in file:\n",
    "                    image_path = os.path.join(root, file)\n",
    "            output_file_name = '_'.join(root.split('/')[-2:]) + '.tsv'\n",
    "            output_path = os.path.join(root, output_file_name)\n",
    "            preprocess_json_to_csv(data_path, output_path, image_path)\n"
   ]
  },
  {
   "cell_type": "code",
   "execution_count": 39,
   "metadata": {},
   "outputs": [
    {
     "name": "stderr",
     "output_type": "stream",
     "text": [
      "/tmp/ipykernel_67799/2285943580.py:12: SettingWithCopyWarning: \n",
      "A value is trying to be set on a copy of a slice from a DataFrame\n",
      "\n",
      "See the caveats in the documentation: https://pandas.pydata.org/pandas-docs/stable/user_guide/indexing.html#returning-a-view-versus-a-copy\n",
      "  df['value'][df['value']=='None'] = ''\n"
     ]
    }
   ],
   "source": [
    "data_path = './com.onmyway133.Almighty-setapp.json'\n",
    "image_path = './Almighty-1707228195.40.png'\n",
    "output_path = './your_updated_csv_file.tsv'\n",
    "preprocess_json_to_csv(data_path, output_path, image_path)"
   ]
  },
  {
   "cell_type": "code",
   "execution_count": null,
   "metadata": {},
   "outputs": [],
   "source": [
    "prepare_all_tsvs('./IASA_Champ_Final/app_data')"
   ]
  },
  {
   "cell_type": "code",
   "execution_count": null,
   "metadata": {},
   "outputs": [],
   "source": []
  }
 ],
 "metadata": {
  "kernelspec": {
   "display_name": "Python 3",
   "language": "python",
   "name": "python3"
  },
  "language_info": {
   "codemirror_mode": {
    "name": "ipython",
    "version": 3
   },
   "file_extension": ".py",
   "mimetype": "text/x-python",
   "name": "python",
   "nbconvert_exporter": "python",
   "pygments_lexer": "ipython3",
   "version": "3.10.12"
  }
 },
 "nbformat": 4,
 "nbformat_minor": 2
}
